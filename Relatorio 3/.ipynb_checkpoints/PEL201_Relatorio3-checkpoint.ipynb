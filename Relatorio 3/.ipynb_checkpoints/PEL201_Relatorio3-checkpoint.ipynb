{
 "cells": [
  {
   "cell_type": "markdown",
   "metadata": {},
   "source": [
    "# _Relatório 3 PEL 201_\n",
    "\n",
    "___\n",
    "\n",
    "**Aluno**:Juliano Alves de Oliveira.\n",
    "**R.A**:1173095\n",
    "\n",
    "**Linguagem utilizada**=Python"
   ]
  },
  {
   "cell_type": "markdown",
   "metadata": {},
   "source": [
    "# Algoritmo de Prim\n",
    "\n",
    "O algoritmo de Prim é utilizado para encontrar a **árvore mínima** em um grafo. O algoritmo pode ser descrito da seguinte forma:\n",
    "\n",
    "1. Defini-se um peso infinito para cada vértice;\n",
    "2. Seleciona-se um vértice como raiz;\n",
    "3. A partir deste vértice raiz seleciona-se o vértice com a aresta de menor valor;\n",
    "4. Atualiza-se o vértice selecionado com o valor da aresta, e o vértice selecionado é removido da pilha\n",
    "5. o ciclo se repete enquanto houver vértices "
   ]
  },
  {
   "cell_type": "code",
   "execution_count": 3,
   "metadata": {},
   "outputs": [
    {
     "name": "stderr",
     "output_type": "stream",
     "text": [
      "C:\\Users\\Apolo\\Anaconda3\\lib\\site-packages\\ipykernel_launcher.py:4: DeprecationWarning: This function is deprecated. Please call randint(-2000, 2000 + 1) instead\n",
      "  after removing the cwd from sys.path.\n"
     ]
    }
   ],
   "source": [
    "import numpy as np\n",
    "\n",
    "N = 100\n",
    "b = np.random.random_integers(-2000,2000,size=(N,N))\n",
    "b_symm = (b + b.T)/2"
   ]
  },
  {
   "cell_type": "code",
   "execution_count": 4,
   "metadata": {},
   "outputs": [
    {
     "data": {
      "text/plain": [
       "array([[ -762,  1668,   948, ...,   642,   847,  -608],\n",
       "       [  525, -1741,   476, ..., -1583,    -8,  1526],\n",
       "       [  724,   380,  -301, ...,  1365,  -240,   406],\n",
       "       ..., \n",
       "       [ -416,  -311, -1944, ..., -1904,  -415,  -470],\n",
       "       [ 1523,  -295, -1188, ...,    73,  -119,  -849],\n",
       "       [-1473,  1564,   463, ..., -1602,    59,  1691]])"
      ]
     },
     "execution_count": 4,
     "metadata": {},
     "output_type": "execute_result"
    }
   ],
   "source": [
    "b"
   ]
  },
  {
   "cell_type": "code",
   "execution_count": null,
   "metadata": {},
   "outputs": [],
   "source": []
  }
 ],
 "metadata": {
  "kernelspec": {
   "display_name": "Python 3",
   "language": "python",
   "name": "python3"
  },
  "language_info": {
   "codemirror_mode": {
    "name": "ipython",
    "version": 3
   },
   "file_extension": ".py",
   "mimetype": "text/x-python",
   "name": "python",
   "nbconvert_exporter": "python",
   "pygments_lexer": "ipython3",
   "version": "3.6.2"
  }
 },
 "nbformat": 4,
 "nbformat_minor": 2
}
