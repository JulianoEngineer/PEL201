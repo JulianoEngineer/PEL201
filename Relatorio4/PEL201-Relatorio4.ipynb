{
 "cells": [
  {
   "cell_type": "code",
   "execution_count": 1,
   "metadata": {},
   "outputs": [
    {
     "name": "stdout",
     "output_type": "stream",
     "text": [
      "Enter number of matrices: 4\n",
      "Enter number of rows in matrix 1: 5\n",
      "Enter number of rows in matrix 2: 6\n",
      "Enter number of rows in matrix 3: 7\n",
      "Enter number of rows in matrix 4: 8\n",
      "Enter number of columns in matrix 4: 6\n",
      "The number of scalar multiplications needed: 730\n",
      "Optimal parenthesization: (((A[1]A[2])A[3])A[4])"
     ]
    }
   ],
   "source": []
  },
  {
   "cell_type": "code",
   "execution_count": 2,
   "metadata": {},
   "outputs": [],
   "source": [
    "def matrix_product(p):\n",
    "    \"\"\"Return m and s.\n",
    " \n",
    "    m[i][j] is the minimum number of scalar multiplications needed to compute the\n",
    "    product of matrices A(i), A(i + 1), ..., A(j).\n",
    " \n",
    "    s[i][j] is the index of the matrix after which the product is split in an\n",
    "    optimal parenthesization of the matrix product.\n",
    " \n",
    "    p[0... n] is a list such that matrix A(i) has dimensions p[i - 1] x p[i].\n",
    "    \"\"\"\n",
    "    length = len(p) # len(p) = number of matrices + 1\n",
    " \n",
    "    # m[i][j] is the minimum number of multiplications needed to compute the\n",
    "    # product of matrices A(i), A(i+1), ..., A(j)\n",
    "    # s[i][j] is the matrix after which the product is split in the minimum\n",
    "    # number of multiplications needed\n",
    "    m = [[-1]*length for _ in range(length)]\n",
    "    s = [[-1]*length for _ in range(length)]\n",
    " \n",
    "    matrix_product_helper(p, 1, length - 1, m, s)\n",
    " \n",
    "    return m, s"
   ]
  },
  {
   "cell_type": "code",
   "execution_count": 3,
   "metadata": {},
   "outputs": [],
   "source": [
    "def matrix_product_helper(p, start, end, m, s):\n",
    "    \"\"\"Return minimum number of scalar multiplications needed to compute the\n",
    "    product of matrices A(start), A(start + 1), ..., A(end).\n",
    " \n",
    "    The minimum number of scalar multiplications needed to compute the\n",
    "    product of matrices A(i), A(i + 1), ..., A(j) is stored in m[i][j].\n",
    " \n",
    "    The index of the matrix after which the above product is split in an optimal\n",
    "    parenthesization is stored in s[i][j].\n",
    " \n",
    "    p[0... n] is a list such that matrix A(i) has dimensions p[i - 1] x p[i].\n",
    "    \"\"\"\n",
    "    if m[start][end] >= 0:\n",
    "        return m[start][end]\n",
    " \n",
    "    if start == end:\n",
    "        q = 0\n",
    "    else:\n",
    "        q = float('inf')\n",
    "        for k in range(start, end):\n",
    "            temp = matrix_product_helper(p, start, k, m, s) \\\n",
    "                   + matrix_product_helper(p, k + 1, end, m, s) \\\n",
    "                   + p[start - 1]*p[k]*p[end]\n",
    "            if q > temp:\n",
    "                q = temp\n",
    "                s[start][end] = k\n",
    " \n",
    "    m[start][end] = q\n",
    "    return q"
   ]
  },
  {
   "cell_type": "code",
   "execution_count": 4,
   "metadata": {},
   "outputs": [],
   "source": [
    "\n",
    "def print_parenthesization(s, start, end):\n",
    "    \"\"\"Print the optimal parenthesization of the matrix product A(start) x\n",
    "    A(start + 1) x ... x A(end).\n",
    " \n",
    "    s[i][j] is the index of the matrix after which the product is split in an\n",
    "    optimal parenthesization of the matrix product.\n",
    "    \"\"\"\n",
    "    if start == end:\n",
    "        print('A[{}]'.format(start), end='')\n",
    "        return\n",
    " \n",
    "    k = s[start][end]\n",
    " \n",
    "    print('(', end='')\n",
    "    print_parenthesization(s, start, k)\n",
    "    print_parenthesization(s, k + 1, end)\n",
    "    print(')', end='')\n",
    " "
   ]
  },
  {
   "cell_type": "code",
   "execution_count": 5,
   "metadata": {},
   "outputs": [
    {
     "name": "stdout",
     "output_type": "stream",
     "text": [
      "Enter number of matrices: 2\n",
      "Enter number of rows in matrix 1: 3\n",
      "Enter number of rows in matrix 2: 4\n",
      "Enter number of columns in matrix 2: 5\n",
      "The number of scalar multiplications needed: 60\n",
      "Optimal parenthesization: (A[1]A[2])"
     ]
    }
   ],
   "source": [
    "n = int(input('Enter number of matrices: '))\n",
    "p = []\n",
    "for i in range(n):\n",
    "    temp = int(input('Enter number of rows in matrix {}: '.format(i + 1)))\n",
    "    p.append(temp)\n",
    "temp = int(input('Enter number of columns in matrix {}: '.format(n)))\n",
    "p.append(temp)\n",
    " \n",
    "m, s = matrix_product(p)\n",
    "print('The number of scalar multiplications needed:', m[1][n])\n",
    "print('Optimal parenthesization: ', end='')\n",
    "print_parenthesization(s, 1, n)"
   ]
  },
  {
   "cell_type": "code",
   "execution_count": null,
   "metadata": {},
   "outputs": [],
   "source": []
  }
 ],
 "metadata": {
  "kernelspec": {
   "display_name": "Python 3",
   "language": "python",
   "name": "python3"
  },
  "language_info": {
   "codemirror_mode": {
    "name": "ipython",
    "version": 3
   },
   "file_extension": ".py",
   "mimetype": "text/x-python",
   "name": "python",
   "nbconvert_exporter": "python",
   "pygments_lexer": "ipython3",
   "version": "3.5.5"
  },
  "widgets": {
   "state": {},
   "version": "1.1.2"
  }
 },
 "nbformat": 4,
 "nbformat_minor": 2
}
