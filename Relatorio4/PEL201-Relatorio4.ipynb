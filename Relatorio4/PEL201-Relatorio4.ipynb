{
 "cells": [
  {
   "cell_type": "markdown",
   "metadata": {},
   "source": [
    "# _Relatório 4 PEL 201_\n",
    "\n",
    "___\n",
    "\n",
    "**Aluno**:Juliano Alves de Oliveira.\n",
    "**R.A**:1173095\n",
    "\n",
    "**Linguagem utilizada**=Python"
   ]
  },
  {
   "cell_type": "markdown",
   "metadata": {},
   "source": [
    "## Multiplicação de matrizes em cadeia\n",
    "\n",
    "___\n",
    "\n",
    "O algoritmo de multiplicação de matrizes em cadeia se basei no princípio de resolver o problema global de forma local e menor, sendo que em cada etapa se armazena a melhor forma de se resolver o problema. Exemplo:\n",
    "\n",
    "Para um caso de 6 matrizes podemos dividir o problema da seguinte maneira.\n",
    "\n",
    "1. encontrar a melhor forma de multiplicar a matriz em agrupamentos de 2 em 2;\n",
    "2. encontra-se a melhor forma de se multiplicar a matriz divindindo o problema em agrupamentos de 3 em 3, considerando valores obtidos na etapa anterior;\n",
    "3. O processo continua com os agrupamentos, sempre utilizando os melhores resultados obtidos na etapa anterior e guardando o melhor resultado da etapa presente;\n",
    "4. A o fim do processo existe um \"caminho\" das melhores multiplicações que vai trazer o melhor agrupamento de matrizes para o presente problema;\n"
   ]
  },
  {
   "cell_type": "code",
   "execution_count": 2,
   "metadata": {},
   "outputs": [],
   "source": [
    "def matrix_product(p):\n",
    "    length = len(p)\n",
    "    m = [[-1]*length for _ in range(length)]\n",
    "    s = [[-1]*length for _ in range(length)]\n",
    " \n",
    "    matrix_product_helper(p, 1, length - 1, m, s)\n",
    " \n",
    "    return m, s"
   ]
  },
  {
   "cell_type": "code",
   "execution_count": 3,
   "metadata": {},
   "outputs": [],
   "source": [
    "def matrix_product_helper(p, start, end, m, s):\n",
    "    if m[start][end] >= 0:\n",
    "        return m[start][end]\n",
    " \n",
    "    if start == end:\n",
    "        q = 0\n",
    "    else:\n",
    "        q = float('inf')\n",
    "        for k in range(start, end):\n",
    "            temp = matrix_product_helper(p, start, k, m, s) \\\n",
    "                   + matrix_product_helper(p, k + 1, end, m, s) \\\n",
    "                   + p[start - 1]*p[k]*p[end]\n",
    "            if q > temp:\n",
    "                q = temp\n",
    "                s[start][end] = k\n",
    " \n",
    "    m[start][end] = q\n",
    "    return q"
   ]
  },
  {
   "cell_type": "code",
   "execution_count": 16,
   "metadata": {},
   "outputs": [],
   "source": [
    "def print_parenthesization(s, start, end):\n",
    "    if start == end:\n",
    "        print('A[{}]'.format(start), end='')\n",
    "        return\n",
    " \n",
    "    k = s[start][end]\n",
    " \n",
    "    print('(', end='')\n",
    "    print_parenthesization(s, start, k)\n",
    "    print_parenthesization(s, k + 1, end)\n",
    "    print(')', end='')\n",
    " "
   ]
  },
  {
   "cell_type": "code",
   "execution_count": 110,
   "metadata": {},
   "outputs": [],
   "source": [
    "import numpy as np"
   ]
  },
  {
   "cell_type": "code",
   "execution_count": 256,
   "metadata": {},
   "outputs": [],
   "source": [
    "rows10 = np.random.randint(100, size=(10,))\n",
    "col = np.random.randint(100, size=(1,))"
   ]
  },
  {
   "cell_type": "code",
   "execution_count": 257,
   "metadata": {},
   "outputs": [],
   "source": [
    "rows30 = np.concatenate((rows10,np.random.randint(100, size=(20,))))"
   ]
  },
  {
   "cell_type": "code",
   "execution_count": 258,
   "metadata": {},
   "outputs": [],
   "source": [
    "rows50 = np.concatenate((rows30,np.random.randint(100, size=(20,))))"
   ]
  },
  {
   "cell_type": "code",
   "execution_count": 259,
   "metadata": {},
   "outputs": [],
   "source": [
    "p10 = np.concatenate((rows10,col))\n",
    "m10, s10 = matrix_product(p10)"
   ]
  },
  {
   "cell_type": "code",
   "execution_count": 260,
   "metadata": {},
   "outputs": [],
   "source": [
    "p30 = np.concatenate((rows30,col))\n",
    "m30, s30 = matrix_product(p30)"
   ]
  },
  {
   "cell_type": "code",
   "execution_count": 261,
   "metadata": {},
   "outputs": [],
   "source": [
    "p50 = np.concatenate((rows50,col))\n",
    "m50, s50 = matrix_product(p50)"
   ]
  },
  {
   "cell_type": "markdown",
   "metadata": {},
   "source": [
    "### Resultados para 10 matrizes"
   ]
  },
  {
   "cell_type": "code",
   "execution_count": 262,
   "metadata": {},
   "outputs": [
    {
     "name": "stdout",
     "output_type": "stream",
     "text": [
      "Numero de interacoes para 10 matrizes =  90080\n",
      "((A[1]A[2])(((((((A[3]A[4])A[5])A[6])A[7])A[8])A[9])A[10]))"
     ]
    }
   ],
   "source": [
    "print('Numero de interacoes para 10 matrizes = ', m10[1][10])\n",
    "print_parenthesization(s10, 1, 10)"
   ]
  },
  {
   "cell_type": "markdown",
   "metadata": {},
   "source": [
    "### Resultado para 30 matrizes"
   ]
  },
  {
   "cell_type": "code",
   "execution_count": 263,
   "metadata": {},
   "outputs": [
    {
     "name": "stdout",
     "output_type": "stream",
     "text": [
      "Numero de interacoes para 100 matrizes =  404625\n",
      "((A[1](A[2](A[3](A[4](A[5](A[6](A[7](A[8](A[9](A[10](A[11](A[12](A[13](A[14](A[15](A[16](A[17](A[18](A[19](A[20](A[21](A[22](A[23](A[24](A[25]A[26])))))))))))))))))))))))))(((A[27]A[28])A[29])A[30]))"
     ]
    }
   ],
   "source": [
    "print('Numero de interacoes para 100 matrizes = ', m30[1][30])\n",
    "print_parenthesization(s30, 1, 30)"
   ]
  },
  {
   "cell_type": "markdown",
   "metadata": {},
   "source": [
    "### Resultado para 50 matrizes"
   ]
  },
  {
   "cell_type": "code",
   "execution_count": 264,
   "metadata": {},
   "outputs": [
    {
     "name": "stdout",
     "output_type": "stream",
     "text": [
      "Numero de interacoes para 500 matrizes =  616752\n",
      "((A[1](A[2](A[3](A[4](A[5](A[6](A[7](A[8](A[9](A[10](A[11](A[12](A[13](A[14](A[15](A[16](A[17](A[18](A[19](A[20](A[21](A[22](A[23](A[24](A[25](A[26](A[27](A[28](A[29](A[30](A[31](A[32](A[33](A[34](A[35](A[36](A[37](A[38](A[39]A[40])))))))))))))))))))))))))))))))))))))))(((((((((A[41]A[42])A[43])A[44])A[45])A[46])A[47])A[48])A[49])A[50]))"
     ]
    }
   ],
   "source": [
    "print('Numero de interacoes para 500 matrizes = ', m50[1][50])\n",
    "print_parenthesization(s50, 1, 50)"
   ]
  },
  {
   "cell_type": "markdown",
   "metadata": {},
   "source": [
    "### Resultados"
   ]
  },
  {
   "cell_type": "code",
   "execution_count": 266,
   "metadata": {},
   "outputs": [
    {
     "data": {
      "image/png": "[encoded data removed]",
      "text/plain": [
       "<matplotlib.figure.Figure at 0x1fdc89d0f28>"
      ]
     },
     "metadata": {},
     "output_type": "display_data"
    }
   ],
   "source": [
    "import matplotlib.pyplot as plt\n",
    "%matplotlib inline\n",
    "plt.figure(figsize=(20,10))\n",
    "interactions,=plt.plot([10,30,50],[m10[1][10],m30[1][30],m50[1][50]],label='Numero de interacoes')\n",
    "plt.legend(handles=[interactions])\n",
    "plt.title(\"Numero minimo de interacoes para multiplicacao \")\n",
    "plt.xlabel('Numero de matrizes')\n",
    "plt.ylabel('Numero de interacoes')\n",
    "plt.show()"
   ]
  },
  {
   "cell_type": "markdown",
   "metadata": {},
   "source": [
    "Apesar de conter poucos pontos, é possível observar uma tendência assintotica do gráfico com o crescimento do número de matrizes na cadeia."
   ]
  }
 ],
 "metadata": {
  "kernelspec": {
   "display_name": "Python 3",
   "language": "python",
   "name": "python3"
  },
  "language_info": {
   "codemirror_mode": {
    "name": "ipython",
    "version": 3
   },
   "file_extension": ".py",
   "mimetype": "text/x-python",
   "name": "python",
   "nbconvert_exporter": "python",
   "pygments_lexer": "ipython3",
   "version": "3.6.1"
  },
  "widgets": {
   "state": {},
   "version": "1.1.2"
  }
 },
 "nbformat": 4,
 "nbformat_minor": 2
}
